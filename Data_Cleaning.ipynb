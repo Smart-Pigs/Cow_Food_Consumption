{
  "nbformat": 4,
  "nbformat_minor": 0,
  "metadata": {
    "colab": {
      "provenance": [],
      "authorship_tag": "ABX9TyMUJ8QbNLMcdj5XjtaTAh4j",
      "include_colab_link": true
    },
    "kernelspec": {
      "name": "python3",
      "display_name": "Python 3"
    },
    "language_info": {
      "name": "python"
    }
  },
  "cells": [
    {
      "cell_type": "markdown",
      "metadata": {
        "id": "view-in-github",
        "colab_type": "text"
      },
      "source": [
        "<a href=\"https://colab.research.google.com/github/Smart-Pigs/Cow_Food_Consumption/blob/main/Data_Cleaning.ipynb\" target=\"_parent\"><img src=\"https://colab.research.google.com/assets/colab-badge.svg\" alt=\"Open In Colab\"/></a>"
      ]
    },
    {
      "cell_type": "code",
      "execution_count": 1,
      "metadata": {
        "colab": {
          "base_uri": "https://localhost:8080/"
        },
        "id": "dTXLJHl-pKJr",
        "outputId": "ff338028-93e7-4943-8ffe-72979cb65e83"
      },
      "outputs": [
        {
          "output_type": "stream",
          "name": "stdout",
          "text": [
            "Mounted at /content/gdrive\n"
          ]
        }
      ],
      "source": [
        "#Mount Google Drive \n",
        "from google.colab import drive\n",
        "drive.mount('/content/gdrive',force_remount=True)"
      ]
    },
    {
      "cell_type": "code",
      "source": [
        "#Change path\n",
        "import os\n",
        "path = '/content/gdrive/MyDrive/Cow_eating_label/'\n",
        "os.chdir(path)"
      ],
      "metadata": {
        "id": "EGrJEuokra16"
      },
      "execution_count": 2,
      "outputs": []
    },
    {
      "cell_type": "markdown",
      "source": [
        "#concatenate for outliers detection "
      ],
      "metadata": {
        "id": "5eNS9MnLDrpc"
      }
    },
    {
      "cell_type": "code",
      "source": [
        "import glob\n",
        "import numpy as np\n",
        "import pandas as pd\n",
        "\n",
        "#remove frist two columns of counts\n",
        "df = pd.read_csv('Cow6065/Final/cow6065_1pm_to_5pm_1.csv')\n",
        "column_names = df.columns.tolist()[2:]\n",
        "print(column_names)\n",
        "\n",
        "#prepare dataset\n",
        "folder = 'Cow6065/Final'\n",
        "output_df='Cow6065/Final/output_df'\n",
        "df = pd.DataFrame()\n",
        "for file in os.listdir(folder):\n",
        "  if file.endswith(\".csv\"):\n",
        "    file_path = os.path.join(folder, file)\n",
        "    file_df = pd.read_csv(file_path)\n",
        "    file_df=file_df[column_names]\n",
        "    file_df[\"label\"] = file_df[\"label\"].replace(\"grazing\", \"eating\")\n",
        "    file_df[\"label\"] = file_df[\"label\"].fillna(\"not_eating\")\n",
        "    df = pd.concat([df, file_df], ignore_index=True)\n",
        "    print(f'Add {file}')\n",
        "output = os.path.join(output_df, '6065_all.csv')\n",
        "df.to_csv(output, index=False)\n",
        "    \n"
      ],
      "metadata": {
        "colab": {
          "base_uri": "https://localhost:8080/"
        },
        "id": "_Lj8WAR6qjnL",
        "outputId": "709b20c1-c903-4ff8-8bfa-83fca1ea7032"
      },
      "execution_count": null,
      "outputs": [
        {
          "output_type": "stream",
          "name": "stdout",
          "text": [
            "['acc_x_leg', 'acc_y_leg', 'acc_z_leg', 'gyro_x_leg', 'gyro_y_leg', 'gyro_z_leg', 'acc_x_maxilar', 'acc_y_maxilar', 'acc_z_maxilar', 'gyro_x_maxilar', 'gyro_y_maxilar', 'gyro_z_maxilar', 'acc_x_nose', 'acc_y_nose', 'acc_z_nose', 'gyro_x_nose', 'gyro_y_nose', 'gyro_z_nose', 'label']\n",
            "Add cow6065_1pm_to_5pm_1.csv\n"
          ]
        },
        {
          "output_type": "stream",
          "name": "stderr",
          "text": [
            "<ipython-input-11-e17758a81871>:17: DtypeWarning: Columns (20) have mixed types. Specify dtype option on import or set low_memory=False.\n",
            "  file_df = pd.read_csv(file_path)\n",
            "<ipython-input-11-e17758a81871>:19: SettingWithCopyWarning: \n",
            "A value is trying to be set on a copy of a slice from a DataFrame.\n",
            "Try using .loc[row_indexer,col_indexer] = value instead\n",
            "\n",
            "See the caveats in the documentation: https://pandas.pydata.org/pandas-docs/stable/user_guide/indexing.html#returning-a-view-versus-a-copy\n",
            "  file_df[\"label\"] = file_df[\"label\"].replace(\"grazing\", \"eating\")\n",
            "<ipython-input-11-e17758a81871>:20: SettingWithCopyWarning: \n",
            "A value is trying to be set on a copy of a slice from a DataFrame.\n",
            "Try using .loc[row_indexer,col_indexer] = value instead\n",
            "\n",
            "See the caveats in the documentation: https://pandas.pydata.org/pandas-docs/stable/user_guide/indexing.html#returning-a-view-versus-a-copy\n",
            "  file_df[\"label\"] = file_df[\"label\"].fillna(\"not_eating\")\n"
          ]
        },
        {
          "output_type": "stream",
          "name": "stdout",
          "text": [
            "Add cow6065_5pm_to_9pm.csv\n",
            "Add cow6065_9am_to_1pm_1.csv\n"
          ]
        },
        {
          "output_type": "stream",
          "name": "stderr",
          "text": [
            "<ipython-input-11-e17758a81871>:17: DtypeWarning: Columns (20) have mixed types. Specify dtype option on import or set low_memory=False.\n",
            "  file_df = pd.read_csv(file_path)\n"
          ]
        },
        {
          "output_type": "stream",
          "name": "stdout",
          "text": [
            "Add cow6065_9am_to_1pm_2.csv\n",
            "Add cow6065_1pm_to_5pm_2.csv\n",
            "Add cow6065_9pm_to_12am.csv\n"
          ]
        }
      ]
    },
    {
      "cell_type": "code",
      "source": [
        "# 1.5IQR\n",
        "def Detect_outlier_IQR(df):\n",
        "  Q1 = df.quantile(0.25)\n",
        "  Q3 = df.quantile(0.75)\n",
        "  IQR = Q3 - Q1\n",
        "  down_threshold = Q1-1.5*IQR\n",
        "  up_threshold = Q3+1.5*IQR\n",
        "  return up_threshold,down_threshold\n",
        "\n",
        "\n",
        "#label set\n",
        "labels=set(df['label'])\n",
        "df=pd.read_csv('Cow6065/Final/output_df/6065_all.csv')\n",
        "ouliers=0\n",
        "out_percent=0\n",
        "for label in labels:\n",
        "  data_item = df[df['label'] == label]\n",
        "  print(f\"Label: {label}\")\n",
        "  for col in data_item.columns[:-1]:\n",
        "    col_threshold = Detect_outlier_IQR(data_item[col])\n",
        "    outliers = data_item[(data_item[col]<col_threshold[1])|(data_item[col]>col_threshold[0])].shape[0]\n",
        "    print(f\"{col}: {col_threshold}\")\n",
        "  print(\"\\n\")\n",
        "out_percent=outliers/df.shape[0] \n",
        "print(out_percent) \n",
        "\n"
      ],
      "metadata": {
        "colab": {
          "base_uri": "https://localhost:8080/"
        },
        "id": "W1EoAMgkxAdH",
        "outputId": "90c2d7e3-654e-4d16-8963-3c5770100e59"
      },
      "execution_count": null,
      "outputs": [
        {
          "output_type": "stream",
          "name": "stdout",
          "text": [
            "Label: eating\n",
            "acc_x_leg: (2.14434814453125, -2.52117919921875)\n",
            "acc_y_leg: (-9.695922851562502, -10.021313476562499)\n",
            "acc_z_leg: (0.08732910156249984, -1.8171630859375)\n",
            "gyro_x_leg: (0.8079268485307691, -1.0213414877653122)\n",
            "gyro_y_leg: (0.9146341681480408, -1.5243902802467346)\n",
            "gyro_z_leg: (2.14939022064209, -1.3871951103210447)\n",
            "acc_x_maxilar: (12.22906494140625, 3.6109985351562517)\n",
            "acc_y_maxilar: (9.8861328125, -2.6318359374999996)\n",
            "acc_z_maxilar: (0.11962890624999956, -8.67548828125)\n",
            "gyro_x_maxilar: (70.67073059082031, -70.06097412109375)\n",
            "gyro_y_maxilar: (41.15853834152222, -39.81707429885864)\n",
            "gyro_z_maxilar: (49.771342277526855, -52.05792713165283)\n",
            "acc_x_nose: (9.349597167968751, -2.5797973632812505)\n",
            "acc_y_nose: (-2.9895263671875023, -13.765698242187497)\n",
            "acc_z_nose: (10.08890380859375, -5.07525634765625)\n",
            "gyro_x_nose: (59.71036624908447, -58.70426845550537)\n",
            "gyro_y_nose: (44.1463418006897, -45.365853786468506)\n",
            "gyro_z_nose: (35.21341514587402, -36.0060977935791)\n",
            "\n",
            "\n",
            "Label: ruminating\n",
            "acc_x_leg: (0.14833984375000003, -0.59814453125)\n",
            "acc_y_leg: (-9.831701660156249, -9.93218994140625)\n",
            "acc_z_leg: (-0.13637695312499998, -1.6006347656250002)\n",
            "gyro_x_leg: (0.8536585569381712, -1.097561001777649)\n",
            "gyro_y_leg: (0.9298780709505085, -1.6310975998640063)\n",
            "gyro_z_leg: (2.3628049343824387, -1.6615854054689407)\n",
            "acc_x_maxilar: (12.290374755859377, -0.7707092285156261)\n",
            "acc_y_maxilar: (9.742877197265624, 1.5195861816406269)\n",
            "acc_z_maxilar: (-1.1891113281249992, -9.654052734375002)\n",
            "gyro_x_maxilar: (75.8993935585022, -73.73475790023804)\n",
            "gyro_y_maxilar: (47.22560977935791, -44.96951198577881)\n",
            "gyro_z_maxilar: (55.80792856216431, -59.07012319564819)\n",
            "acc_x_nose: (9.248211669921876, -1.310235595703126)\n",
            "acc_y_nose: (-2.109057617187501, -13.751342773437498)\n",
            "acc_z_nose: (8.512493896484376, -1.376031494140626)\n",
            "gyro_x_nose: (60.533538579940796, -59.100610971450806)\n",
            "gyro_y_nose: (48.6661593914032, -51.02896428108215)\n",
            "gyro_z_nose: (36.364330530166626, -37.84298872947693)\n",
            "\n",
            "\n",
            "Label: not_eating\n",
            "acc_x_leg: (2.3590820312500003, -3.5075195312500003)\n",
            "acc_y_leg: (-9.5643310546875, -10.0906982421875)\n",
            "acc_z_leg: (0.8595336914062502, -2.1311889648437505)\n",
            "gyro_x_leg: (0.9603658765554428, -1.1128049045801163)\n",
            "gyro_y_leg: (1.0365853458642957, -1.6463414281606672)\n",
            "gyro_z_leg: (2.2256098091602325, -1.4329268634319303)\n",
            "acc_x_maxilar: (12.182409667968752, -2.3788208007812504)\n",
            "acc_y_maxilar: (11.632714843750001, 1.8805664062500003)\n",
            "acc_z_maxilar: (-1.9320068359375, -7.7698974609375)\n",
            "gyro_x_maxilar: (47.91158580780029, -47.33231830596924)\n",
            "gyro_y_maxilar: (27.13414692878723, -26.036585569381714)\n",
            "gyro_z_maxilar: (25.472561836242676, -25.868903160095215)\n",
            "acc_x_nose: (7.879956054687502, 0.12800292968749938)\n",
            "acc_y_nose: (-3.5505859375000015, -12.403124999999998)\n",
            "acc_z_nose: (9.11392822265625, -2.2508178710937496)\n",
            "gyro_x_nose: (31.417683362960815, -32.85061001777649)\n",
            "gyro_y_nose: (32.46951222419739, -33.87195086479187)\n",
            "gyro_z_nose: (26.097561597824097, -26.58536648750305)\n",
            "\n",
            "\n",
            "0.053861746178087165\n"
          ]
        }
      ]
    },
    {
      "cell_type": "markdown",
      "source": [
        "#Back to original files and remove outliers"
      ],
      "metadata": {
        "id": "KzBQRg3ID9i9"
      }
    },
    {
      "cell_type": "code",
      "source": [
        "#Label: eating\n",
        "thres_eat={\n",
        "    'acc_x_leg': (2.14434814453125, -2.52117919921875),\n",
        "    'acc_y_leg': (-9.695922851562502, -10.021313476562499),\n",
        "    'acc_z_leg': (0.08732910156249984, -1.8171630859375),\n",
        "    'gyro_x_leg': (0.8079268485307691, -1.0213414877653122),\n",
        "    'gyro_y_leg': (0.9146341681480408, -1.5243902802467346),\n",
        "    'gyro_z_leg': (2.14939022064209, -1.3871951103210447),\n",
        "    'acc_x_maxilar': (12.22906494140625, 3.6109985351562517),\n",
        "    'acc_y_maxilar': (9.8861328125, -2.6318359374999996),\n",
        "    'acc_z_maxilar': (0.11962890624999956, -8.67548828125),\n",
        "    'gyro_x_maxilar': (70.67073059082031, -70.06097412109375),\n",
        "    'gyro_y_maxilar': (41.15853834152222, -39.81707429885864),\n",
        "    'gyro_z_maxilar': (49.771342277526855, -52.05792713165283),\n",
        "    'acc_x_nose': (9.349597167968751, -2.5797973632812505),\n",
        "    'acc_y_nose': (-2.9895263671875023, -13.765698242187497),\n",
        "    'acc_z_nose': (10.08890380859375, -5.07525634765625),\n",
        "    'gyro_x_nose': (59.71036624908447, -58.70426845550537),\n",
        "    'gyro_y_nose': (44.1463418006897, -45.365853786468506),\n",
        "    'gyro_z_nose': (35.21341514587402, -36.0060977935791)\n",
        "}\n",
        "\n",
        "#Label: ruminating\n",
        "thres_rum = {\n",
        "    'acc_x_leg': (0.14833984375000003, -0.59814453125),\n",
        "    'acc_y_leg': (-9.831701660156249, -9.93218994140625),\n",
        "    'acc_z_leg': (-0.13637695312499998, -1.6006347656250002),\n",
        "    'gyro_x_leg': (0.8536585569381712, -1.097561001777649),\n",
        "    'gyro_y_leg': (0.9298780709505085, -1.6310975998640063),\n",
        "    'gyro_z_leg': (2.3628049343824387, -1.6615854054689407),\n",
        "    'acc_x_maxilar': (12.290374755859377, -0.7707092285156261),\n",
        "    'acc_y_maxilar': (9.742877197265624, 1.5195861816406269),\n",
        "    'acc_z_maxilar': (-1.1891113281249992, -9.654052734375002),\n",
        "    'gyro_x_maxilar': (75.8993935585022, -73.73475790023804),\n",
        "    'gyro_y_maxilar': (47.22560977935791, -44.96951198577881),\n",
        "    'gyro_z_maxilar': (55.80792856216431, -59.07012319564819),\n",
        "    'acc_x_nose': (9.248211669921876, -1.310235595703126),\n",
        "    'acc_y_nose': (-2.109057617187501, -13.751342773437498),\n",
        "    'acc_z_nose': (8.512493896484376, -1.376031494140626),\n",
        "    'gyro_x_nose': (60.533538579940796, -59.100610971450806),\n",
        "    'gyro_y_nose': (48.6661593914032, -51.02896428108215),\n",
        "    'gyro_z_nose': (36.364330530166626, -37.84298872947693)\n",
        "}\n",
        "\n",
        "\n",
        "\n",
        "#Label: not_eating\n",
        "thres_neat = {\n",
        "    'acc_x_leg': (2.3590820312500003, -3.5075195312500003),\n",
        "    'acc_y_leg': (-9.5643310546875, -10.0906982421875),\n",
        "    'acc_z_leg': (0.8595336914062502, -2.1311889648437505),\n",
        "    'gyro_x_leg': (0.9603658765554428, -1.1128049045801163),\n",
        "    'gyro_y_leg': (1.0365853458642957, -1.6463414281606672),\n",
        "    'gyro_z_leg': (2.2256098091602325, -1.4329268634319303),\n",
        "    'acc_x_maxilar': (12.182409667968752, -2.3788208007812504),\n",
        "    'acc_y_maxilar': (11.632714843750001, 1.8805664062500003),\n",
        "    'acc_z_maxilar': (-1.9320068359375, -7.7698974609375),\n",
        "    'gyro_x_maxilar': (47.91158580780029, -47.33231830596924),\n",
        "    'gyro_y_maxilar': (27.13414692878723, -26.036585569381714),\n",
        "    'gyro_z_maxilar': (25.472561836242676, -25.868903160095215),\n",
        "    'acc_x_nose': (7.879956054687502, 0.12800292968749938),\n",
        "    'acc_y_nose': (-3.5505859375000015, -12.403124999999998),\n",
        "    'acc_z_nose': (9.11392822265625, -2.2508178710937496),\n",
        "    'gyro_x_nose': (31.417683362960815, -32.85061001777649),\n",
        "    'gyro_y_nose': (32.46951222419739, -33.87195086479187),\n",
        "    'gyro_z_nose': (26.097561597824097, -26.58536648750305)\n",
        "}\n",
        "\n"
      ],
      "metadata": {
        "id": "PKZyrfLcD4Bg"
      },
      "execution_count": 26,
      "outputs": []
    },
    {
      "cell_type": "code",
      "source": [
        "import glob\n",
        "import numpy as np\n",
        "import pandas as pd\n",
        "\n",
        "Input_path = '/content/gdrive/MyDrive/Cow_eating_label/Cow6065/Final/'\n",
        "Output_path = '/content/gdrive/MyDrive/Cow_eating_label/Cow6065/Final/clean/'\n",
        "\n",
        "df = pd.DataFrame()\n",
        "for file_name in os.listdir(Input_path):\n",
        "  if file_name.endswith('.csv'):\n",
        "    file_path = os.path.join(Input_path, file_name)\n",
        "    df = pd.read_csv(file_path)\n",
        "    df = df[df.columns.tolist()[2:]]\n",
        "    for label, threshold in [('eating', thres_eat), ('ruminating', thres_rum), ('not_eating', thres_neat)]:\n",
        "      mask = df['label'] == label\n",
        "      for col in df.columns[:-1]: \n",
        "        if col in threshold:\n",
        "          # Remove outliers\n",
        "          lower_thresh, upper_thresh = threshold[col]\n",
        "          outside_thresh_mask = (df[col] < lower_thresh) | (df[col] > upper_thresh)\n",
        "          df.loc[outside_thresh_mask & mask, col] = np.nan\n",
        "          # Interpolate  \n",
        "          df.loc[mask, col] = df.loc[mask, col].interpolate(method='linear', limit_direction='both')\n",
        "          # df_new = df_new.append(df)\n",
        "    clean_file_path = os.path.join(Output_path, f'{file_name}')\n",
        "    df.to_csv(clean_file_path, index=False)\n",
        "    print(f'Saved {clean_file_path}')\n",
        "    df = pd.DataFrame()\n",
        "\n",
        "\n",
        "\n",
        "\n",
        "\n",
        "\n",
        "\n"
      ],
      "metadata": {
        "id": "m231wAsaOQ-8",
        "colab": {
          "base_uri": "https://localhost:8080/"
        },
        "outputId": "73d47dc2-da0e-45cf-9eee-541bef9755d3"
      },
      "execution_count": 30,
      "outputs": [
        {
          "output_type": "stream",
          "name": "stdout",
          "text": [
            "Saved /content/gdrive/MyDrive/Cow_eating_label/Cow6065/Final/clean/cow6065_1pm_to_5pm_1.csv\n"
          ]
        },
        {
          "output_type": "stream",
          "name": "stderr",
          "text": [
            "<ipython-input-30-5507bad65eab>:12: DtypeWarning: Columns (20) have mixed types. Specify dtype option on import or set low_memory=False.\n",
            "  df = pd.read_csv(file_path)\n"
          ]
        },
        {
          "output_type": "stream",
          "name": "stdout",
          "text": [
            "Saved /content/gdrive/MyDrive/Cow_eating_label/Cow6065/Final/clean/cow6065_5pm_to_9pm.csv\n",
            "Saved /content/gdrive/MyDrive/Cow_eating_label/Cow6065/Final/clean/cow6065_9am_to_1pm_1.csv\n"
          ]
        },
        {
          "output_type": "stream",
          "name": "stderr",
          "text": [
            "<ipython-input-30-5507bad65eab>:12: DtypeWarning: Columns (20) have mixed types. Specify dtype option on import or set low_memory=False.\n",
            "  df = pd.read_csv(file_path)\n"
          ]
        },
        {
          "output_type": "stream",
          "name": "stdout",
          "text": [
            "Saved /content/gdrive/MyDrive/Cow_eating_label/Cow6065/Final/clean/cow6065_9am_to_1pm_2.csv\n",
            "Saved /content/gdrive/MyDrive/Cow_eating_label/Cow6065/Final/clean/cow6065_1pm_to_5pm_2.csv\n",
            "Saved /content/gdrive/MyDrive/Cow_eating_label/Cow6065/Final/clean/cow6065_9pm_to_12am.csv\n"
          ]
        }
      ]
    }
  ]
}