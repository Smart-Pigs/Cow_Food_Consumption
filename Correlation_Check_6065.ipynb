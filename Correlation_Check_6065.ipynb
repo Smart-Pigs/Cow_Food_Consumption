{
  "nbformat": 4,
  "nbformat_minor": 0,
  "metadata": {
    "colab": {
      "provenance": [],
      "include_colab_link": true
    },
    "kernelspec": {
      "name": "python3",
      "display_name": "Python 3"
    },
    "language_info": {
      "name": "python"
    }
  },
  "cells": [
    {
      "cell_type": "markdown",
      "metadata": {
        "id": "view-in-github",
        "colab_type": "text"
      },
      "source": [
        "<a href=\"https://colab.research.google.com/github/Smart-Pigs/Cow_Food_Consumption/blob/main/Correlation_Check_6065.ipynb\" target=\"_parent\"><img src=\"https://colab.research.google.com/assets/colab-badge.svg\" alt=\"Open In Colab\"/></a>"
      ]
    },
    {
      "cell_type": "code",
      "execution_count": 1,
      "metadata": {
        "colab": {
          "base_uri": "https://localhost:8080/"
        },
        "id": "dTXLJHl-pKJr",
        "outputId": "eaacf99d-ee87-4182-cd23-664c12c4f2c5"
      },
      "outputs": [
        {
          "output_type": "stream",
          "name": "stdout",
          "text": [
            "Mounted at /content/gdrive\n"
          ]
        }
      ],
      "source": [
        "#Mount Google Drive \n",
        "from google.colab import drive\n",
        "drive.mount('/content/gdrive',force_remount=True)"
      ]
    },
    {
      "cell_type": "code",
      "source": [
        "#Change path\n",
        "import os\n",
        "path = '/content/gdrive/MyDrive/Cow_eating_label/'\n",
        "os.chdir(path)"
      ],
      "metadata": {
        "id": "EGrJEuokra16"
      },
      "execution_count": 2,
      "outputs": []
    },
    {
      "cell_type": "code",
      "source": [
        "import glob\n",
        "import numpy as np\n",
        "import pandas as pd"
      ],
      "metadata": {
        "id": "jHHxDVUiKJvH"
      },
      "execution_count": 3,
      "outputs": []
    },
    {
      "cell_type": "code",
      "source": [
        "ls Cow6065/Final/featured/"
      ],
      "metadata": {
        "id": "E15nEUePaTaL",
        "outputId": "7b383ad9-e0f6-4a56-f35e-11f4aa5161a0",
        "colab": {
          "base_uri": "https://localhost:8080/"
        }
      },
      "execution_count": 4,
      "outputs": [
        {
          "output_type": "stream",
          "name": "stdout",
          "text": [
            "\u001b[0m\u001b[01;34mTest_cow6065_1pm_to_5pm_1\u001b[0m/  \u001b[01;34mTest_cow6065_9am_to_1pm_1\u001b[0m/\n",
            "\u001b[01;34mTest_cow6065_1pm_to_5pm_2\u001b[0m/  \u001b[01;34mTest_cow6065_9am_to_1pm_2\u001b[0m/\n",
            "\u001b[01;34mTest_cow6065_5pm_to_9pm\u001b[0m/    \u001b[01;34mTest_cow6065_9pm_to_12am\u001b[0m/\n"
          ]
        }
      ]
    },
    {
      "cell_type": "code",
      "source": [
        "ls Cow6065/Final/featured/Test_cow6065_1pm_to_5pm_1/"
      ],
      "metadata": {
        "id": "_kvKvW85KDUl",
        "outputId": "97e74363-603f-45fb-81a5-a0eacf916325",
        "colab": {
          "base_uri": "https://localhost:8080/"
        }
      },
      "execution_count": 5,
      "outputs": [
        {
          "output_type": "stream",
          "name": "stdout",
          "text": [
            "X_test_cow6065_1pm_to_5pm_1.csv   y_test_cow6065_1pm_to_5pm_1.csv\n",
            "X_train_cow6065_1pm_to_5pm_1.csv  y_train_cow6065_1pm_to_5pm_1.csv\n"
          ]
        }
      ]
    },
    {
      "cell_type": "code",
      "source": [
        "df_ex = pd.read_csv(\"Cow6065/Final/featured/Test_cow6065_9am_to_1pm_1/y_test_cow6065_9am_to_1pm_1.csv\",header=None)\n",
        "df_ex[0].value_counts()['eating']"
      ],
      "metadata": {
        "id": "tq13WZvZaZQR",
        "outputId": "d5724763-516b-4bf5-bec0-f58e8001639d",
        "colab": {
          "base_uri": "https://localhost:8080/"
        }
      },
      "execution_count": 6,
      "outputs": [
        {
          "output_type": "execute_result",
          "data": {
            "text/plain": [
              "134"
            ]
          },
          "metadata": {},
          "execution_count": 6
        }
      ]
    },
    {
      "cell_type": "code",
      "source": [
        "df_ex = pd.read_csv(\"Cow6065/Final/featured/Test_cow6065_1pm_to_5pm_1/y_test_cow6065_1pm_to_5pm_1.csv\",header=None)\n",
        "df_ex[0].value_counts()['eating']"
      ],
      "metadata": {
        "id": "QI2T6TSkajew",
        "outputId": "aa8d9247-058e-4d09-8246-1d7d8282e746",
        "colab": {
          "base_uri": "https://localhost:8080/"
        }
      },
      "execution_count": 7,
      "outputs": [
        {
          "output_type": "execute_result",
          "data": {
            "text/plain": [
              "588"
            ]
          },
          "metadata": {},
          "execution_count": 7
        }
      ]
    },
    {
      "cell_type": "code",
      "source": [
        "df_ex = pd.read_csv(\"Cow6065/Final/featured/Test_cow6065_5pm_to_9pm/y_test_cow6065_5pm_to_9pm.csv\",header=None)\n",
        "df_ex[0].value_counts()['eating']"
      ],
      "metadata": {
        "id": "PBZd3CzzcgiT",
        "outputId": "8ae48fe8-6499-4ffd-fc2b-c179fabe2c21",
        "colab": {
          "base_uri": "https://localhost:8080/"
        }
      },
      "execution_count": 8,
      "outputs": [
        {
          "output_type": "execute_result",
          "data": {
            "text/plain": [
              "456"
            ]
          },
          "metadata": {},
          "execution_count": 8
        }
      ]
    },
    {
      "cell_type": "code",
      "source": [
        "df_ex = pd.read_csv(\"Cow6065/Final/featured/Test_cow6065_9pm_to_12am/y_test_cow6065_9pm_to_12am.csv\",header=None)\n",
        "df_ex[0].value_counts()['eating']"
      ],
      "metadata": {
        "id": "BvcA0t3jdj9O",
        "outputId": "d90d37e2-dcfe-47d4-9a4a-e297ddb90810",
        "colab": {
          "base_uri": "https://localhost:8080/"
        }
      },
      "execution_count": 9,
      "outputs": [
        {
          "output_type": "execute_result",
          "data": {
            "text/plain": [
              "605"
            ]
          },
          "metadata": {},
          "execution_count": 9
        }
      ]
    },
    {
      "cell_type": "code",
      "source": [
        "df_ex = pd.read_csv(\"Cow6065/Final/featured/Test_cow6065_9am_to_1pm_2/y_test_cow6065_9am_to_1pm_2.csv\",header=None)\n",
        "df_ex[0].value_counts()['eating']"
      ],
      "metadata": {
        "id": "Q9O7MYITdsVb",
        "outputId": "c3dfec8d-9c07-4afc-85dc-23a8bd35cb71",
        "colab": {
          "base_uri": "https://localhost:8080/"
        }
      },
      "execution_count": 10,
      "outputs": [
        {
          "output_type": "execute_result",
          "data": {
            "text/plain": [
              "920"
            ]
          },
          "metadata": {},
          "execution_count": 10
        }
      ]
    },
    {
      "cell_type": "code",
      "source": [
        "df_ex = pd.read_csv(\"Cow6065/Final/featured/Test_cow6065_1pm_to_5pm_2/y_test_cow6065_1pm_to_5pm_2.csv\",header=None)\n",
        "df_ex[0].value_counts()['eating']"
      ],
      "metadata": {
        "id": "J-3zPNgTdxr2",
        "outputId": "e4f3ed2c-8a60-4255-8e2c-150fca5e0158",
        "colab": {
          "base_uri": "https://localhost:8080/"
        }
      },
      "execution_count": 11,
      "outputs": [
        {
          "output_type": "execute_result",
          "data": {
            "text/plain": [
              "207"
            ]
          },
          "metadata": {},
          "execution_count": 11
        }
      ]
    },
    {
      "cell_type": "code",
      "source": [
        "import pandas as pd\n",
        "\n",
        "data = {'block': ['y_test_cow6065_9am_to_1pm_1', 'y_test_cow6065_1pm_to_5pm_1', 'y_test_cow6065_5pm_to_9pm','y_test_cow6065_9pm_to_12am','y_test_cow6065_9am_to_1pm_2','y_test_cow6065_1pm_to_5pm_2'],\n",
        "        'number of eating events': [134,588,456,605,920,207],\n",
        "        'intake': [34.4,20,28.4,18.8,44,20.2]}\n",
        "\n",
        "df = pd.DataFrame(data)\n",
        "\n",
        "# Calculate correlation between 'number of eating events' and 'intake'\n",
        "correlation = df['number of eating events'].corr(df['intake'])\n",
        "\n",
        "print(f\"Correlation: {correlation:.2f}\")\n"
      ],
      "metadata": {
        "id": "tfz3Wtr9SSMf",
        "outputId": "17d1c029-1749-4faa-b8af-85a126e8c7f4",
        "colab": {
          "base_uri": "https://localhost:8080/"
        }
      },
      "execution_count": 12,
      "outputs": [
        {
          "output_type": "stream",
          "name": "stdout",
          "text": [
            "Correlation: 0.34\n"
          ]
        }
      ]
    },
    {
      "cell_type": "code",
      "source": [
        "import numpy as np\n",
        "from sklearn.linear_model import LinearRegression\n",
        "import matplotlib.pyplot as plt\n",
        "from sklearn.metrics import mean_squared_error, r2_score, mean_absolute_percentage_error\n",
        "import statsmodels.api as sm\n",
        "\n",
        "X = np.array([134,588,456,605,920,207])\n",
        "Y = np.array([34.4,20,28.4,18.8,44,20.2])\n",
        "n = np.size(X)\n",
        "  \n",
        "x_mean = np.mean(X)\n",
        "y_mean = np.mean(Y)\n",
        "x_mean,y_mean\n",
        "  \n",
        "Sxy = np.sum(X*Y)- n*x_mean*y_mean\n",
        "Sxx = np.sum(X*X)-n*x_mean*x_mean\n",
        "  \n",
        "b1 = Sxy/Sxx\n",
        "b0 = y_mean-b1*x_mean\n",
        "print('slope b1 is', b1)\n",
        "print('intercept b0 is', b0)\n",
        "  \n",
        "plt.scatter(X,Y)\n",
        "plt.xlabel('Independent variable X')\n",
        "plt.ylabel('Dependent variable y')\n",
        "\n",
        "y_pred = b1 * X + b0\n",
        "\n",
        "plt.scatter(X, Y, color = 'red')\n",
        "plt.plot(X, y_pred, color = 'green')\n",
        "plt.xlabel('Eating Windows')\n",
        "plt.ylabel('Intake')\n",
        "\n",
        "X = X.reshape(-1,1)\n",
        "regression_model = LinearRegression()\n",
        "\n",
        "# Fit the data(train the model)\n",
        "regression_model.fit(X, Y)\n",
        "print(regression_model.fit(X, Y).score(X,Y))\n",
        "# Predict\n",
        "y_predicted = regression_model.predict(X)\n",
        "\n",
        "# model evaluation\n",
        "mape=mean_absolute_percentage_error(Y,y_predicted)\n",
        "\n",
        "rmse = np.sqrt(mean_squared_error(Y, y_predicted))\n",
        "r2 = r2_score(Y, y_predicted)\n",
        "\n",
        "# printing values\n",
        "print('Slope:' ,regression_model.coef_)\n",
        "print('Intercept:', regression_model.intercept_)\n",
        "print('MAPE:',mape)\n",
        "print('Root mean squared error: ', rmse)\n",
        "print('R2 score: ', r2)\n"
      ],
      "metadata": {
        "colab": {
          "base_uri": "https://localhost:8080/",
          "height": 596
        },
        "id": "lHgK2aDgMFzp",
        "outputId": "cdfbfb93-cb5c-49f8-ed3e-76e04098dd02"
      },
      "execution_count": 13,
      "outputs": [
        {
          "output_type": "stream",
          "name": "stdout",
          "text": [
            "slope b1 is 0.011893348734238158\n",
            "intercept b0 is 21.865059197227822\n",
            "0.11621680815108659\n",
            "Slope: [0.01189335]\n",
            "Intercept: 21.86505919722783\n",
            "MAPE: 0.30076388991686304\n",
            "Root mean squared error:  8.631450694497369\n",
            "R2 score:  0.11621680815108659\n"
          ]
        },
        {
          "output_type": "display_data",
          "data": {
            "text/plain": [
              "<Figure size 640x480 with 1 Axes>"
            ],
            "image/png": "[encoded data removed]"
          },
          "metadata": {}
        }
      ]
    },
    {
      "cell_type": "markdown",
      "source": [
        "#Two cow added together"
      ],
      "metadata": {
        "id": "MVGwE_IyM_21"
      }
    },
    {
      "cell_type": "code",
      "source": [
        "X = np.array([134,588,456,605,920,207,1405, 402, 240,776,725,438,222,445,757,1080,241,20,75])\n",
        "Y = np.array([34.4,20,28.4,18.8,44,20.2,71.4, 13.6, 11.6, 25.2,39.2,18.4,13.4,17.2,29.2,35.4,5.6,11, 18.4])\n",
        "n = np.size(X)\n",
        "  \n",
        "x_mean = np.mean(X)\n",
        "y_mean = np.mean(Y)\n",
        "x_mean,y_mean\n",
        "  \n",
        "Sxy = np.sum(X*Y)- n*x_mean*y_mean\n",
        "Sxx = np.sum(X*X)-n*x_mean*x_mean\n",
        "  \n",
        "b1 = Sxy/Sxx\n",
        "b0 = y_mean-b1*x_mean\n",
        "print('slope b1 is', b1)\n",
        "print('intercept b0 is', b0)\n",
        "  \n",
        "plt.scatter(X,Y)\n",
        "plt.xlabel('Independent variable X')\n",
        "plt.ylabel('Dependent variable y')\n",
        "\n",
        "y_pred = b1 * X + b0\n",
        "\n",
        "plt.scatter(X, Y, color = 'red')\n",
        "plt.plot(X, y_pred, color = 'green')\n",
        "plt.xlabel('Eating Windows')\n",
        "plt.ylabel('Intake')\n",
        "\n",
        "X = X.reshape(-1,1)\n",
        "regression_model = LinearRegression()\n",
        "\n",
        "# Fit the data(train the model)\n",
        "regression_model.fit(X, Y)\n",
        "print(regression_model.fit(X, Y).score(X,Y))\n",
        "# Predict\n",
        "y_predicted = regression_model.predict(X)\n",
        "\n",
        "# model evaluation\n",
        "mape=mean_absolute_percentage_error(Y,y_predicted)\n",
        "\n",
        "rmse = np.sqrt(mean_squared_error(Y, y_predicted))\n",
        "r2 = r2_score(Y, y_predicted)\n",
        "\n",
        "# printing values\n",
        "print('Slope:' ,regression_model.coef_)\n",
        "print('Intercept:', regression_model.intercept_)\n",
        "print('MAPE:',mape)\n",
        "print('Root mean squared error: ', rmse)\n",
        "print('R2 score: ', r2)\n"
      ],
      "metadata": {
        "colab": {
          "base_uri": "https://localhost:8080/",
          "height": 594
        },
        "outputId": "082fc690-ee3b-4344-eea6-3e97eecb2913",
        "id": "4aK1-s2PMwAw"
      },
      "execution_count": 14,
      "outputs": [
        {
          "output_type": "stream",
          "name": "stdout",
          "text": [
            "slope b1 is 0.03342102499668219\n",
            "intercept b0 is 7.895415822752749\n",
            "0.6399057769377954\n",
            "Slope: [0.03342102]\n",
            "Intercept: 7.895415822752739\n",
            "MAPE: 0.3872232830692161\n",
            "Root mean squared error:  8.913615762646467\n",
            "R2 score:  0.6399057769377954\n"
          ]
        },
        {
          "output_type": "display_data",
          "data": {
            "text/plain": [
              "<Figure size 640x480 with 1 Axes>"
            ],
            "image/png": "[encoded data removed]"
          },
          "metadata": {}
        }
      ]
    }
  ]
}