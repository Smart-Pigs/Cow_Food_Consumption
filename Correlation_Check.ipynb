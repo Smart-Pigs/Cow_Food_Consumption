{
  "nbformat": 4,
  "nbformat_minor": 0,
  "metadata": {
    "colab": {
      "provenance": [],
      "include_colab_link": true
    },
    "kernelspec": {
      "name": "python3",
      "display_name": "Python 3"
    },
    "language_info": {
      "name": "python"
    }
  },
  "cells": [
    {
      "cell_type": "markdown",
      "metadata": {
        "id": "view-in-github",
        "colab_type": "text"
      },
      "source": [
        "<a href=\"https://colab.research.google.com/github/Smart-Pigs/Cow_Food_Consumption/blob/main/Correlation_Check.ipynb\" target=\"_parent\"><img src=\"https://colab.research.google.com/assets/colab-badge.svg\" alt=\"Open In Colab\"/></a>"
      ]
    },
    {
      "cell_type": "code",
      "execution_count": 1,
      "metadata": {
        "colab": {
          "base_uri": "https://localhost:8080/"
        },
        "id": "dTXLJHl-pKJr",
        "outputId": "abba65d2-5df4-4ceb-a527-3b2dbea25a2a"
      },
      "outputs": [
        {
          "output_type": "stream",
          "name": "stdout",
          "text": [
            "Mounted at /content/gdrive\n"
          ]
        }
      ],
      "source": [
        "#Mount Google Drive \n",
        "from google.colab import drive\n",
        "drive.mount('/content/gdrive',force_remount=True)"
      ]
    },
    {
      "cell_type": "code",
      "source": [
        "#Change path\n",
        "import os\n",
        "path = '/content/gdrive/MyDrive/Cow_eating_label/'\n",
        "os.chdir(path)"
      ],
      "metadata": {
        "id": "EGrJEuokra16"
      },
      "execution_count": 2,
      "outputs": []
    },
    {
      "cell_type": "code",
      "source": [
        "import glob\n",
        "import numpy as np\n",
        "import pandas as pd"
      ],
      "metadata": {
        "id": "jHHxDVUiKJvH"
      },
      "execution_count": 32,
      "outputs": []
    },
    {
      "cell_type": "code",
      "source": [
        "ls Cow6065/Final/featured/"
      ],
      "metadata": {
        "id": "E15nEUePaTaL",
        "outputId": "c9f2e40b-0dff-4565-aa5d-f1ed6d2a35f9",
        "colab": {
          "base_uri": "https://localhost:8080/"
        }
      },
      "execution_count": 6,
      "outputs": [
        {
          "output_type": "stream",
          "name": "stdout",
          "text": [
            "\u001b[0m\u001b[01;34mTest_cow6065_1pm_to_5pm_1\u001b[0m/  \u001b[01;34mTest_cow6065_9am_to_1pm_1\u001b[0m/\n",
            "\u001b[01;34mTest_cow6065_1pm_to_5pm_2\u001b[0m/  \u001b[01;34mTest_cow6065_9am_to_1pm_2\u001b[0m/\n",
            "\u001b[01;34mTest_cow6065_5pm_to_9pm\u001b[0m/    \u001b[01;34mTest_cow6065_9pm_to_12am\u001b[0m/\n"
          ]
        }
      ]
    },
    {
      "cell_type": "code",
      "source": [
        "ls Cow6065/Final/featured/Test_cow6065_1pm_to_5pm_1/"
      ],
      "metadata": {
        "id": "_kvKvW85KDUl",
        "outputId": "f3a4ef57-1609-4c22-e120-be9bbcd005b2",
        "colab": {
          "base_uri": "https://localhost:8080/"
        }
      },
      "execution_count": 5,
      "outputs": [
        {
          "output_type": "stream",
          "name": "stdout",
          "text": [
            "X_test_cow6065_1pm_to_5pm_1.csv   y_test_cow6065_1pm_to_5pm_1.csv\n",
            "X_train_cow6065_1pm_to_5pm_1.csv  y_train_cow6065_1pm_to_5pm_1.csv\n"
          ]
        }
      ]
    },
    {
      "cell_type": "code",
      "source": [
        "df_ex = pd.read_csv(\"Cow6065/Final/featured/Test_cow6065_9am_to_1pm_1/y_test_cow6065_9am_to_1pm_1.csv\",header=None)\n",
        "df_ex[0].value_counts()['eating']"
      ],
      "metadata": {
        "id": "tq13WZvZaZQR",
        "outputId": "795095ba-f20d-4948-8bea-c4f2b043df06",
        "colab": {
          "base_uri": "https://localhost:8080/"
        }
      },
      "execution_count": 18,
      "outputs": [
        {
          "output_type": "execute_result",
          "data": {
            "text/plain": [
              "134"
            ]
          },
          "metadata": {},
          "execution_count": 18
        }
      ]
    },
    {
      "cell_type": "code",
      "source": [
        "df_ex = pd.read_csv(\"Cow6065/Final/featured/Test_cow6065_1pm_to_5pm_1/y_test_cow6065_1pm_to_5pm_1.csv\",header=None)\n",
        "df_ex[0].value_counts()['eating']"
      ],
      "metadata": {
        "id": "QI2T6TSkajew",
        "outputId": "0f2418d3-7f41-469a-f4c7-fc1fc7d74e0e",
        "colab": {
          "base_uri": "https://localhost:8080/"
        }
      },
      "execution_count": 19,
      "outputs": [
        {
          "output_type": "execute_result",
          "data": {
            "text/plain": [
              "588"
            ]
          },
          "metadata": {},
          "execution_count": 19
        }
      ]
    },
    {
      "cell_type": "code",
      "source": [
        "df_ex = pd.read_csv(\"Cow6065/Final/featured/Test_cow6065_5pm_to_9pm/y_test_cow6065_5pm_to_9pm.csv\",header=None)\n",
        "df_ex[0].value_counts()['eating']"
      ],
      "metadata": {
        "id": "PBZd3CzzcgiT",
        "outputId": "edac93b9-e244-4010-910b-5ba28d04d82a",
        "colab": {
          "base_uri": "https://localhost:8080/"
        }
      },
      "execution_count": 20,
      "outputs": [
        {
          "output_type": "execute_result",
          "data": {
            "text/plain": [
              "456"
            ]
          },
          "metadata": {},
          "execution_count": 20
        }
      ]
    },
    {
      "cell_type": "code",
      "source": [
        "df_ex = pd.read_csv(\"Cow6065/Final/featured/Test_cow6065_9pm_to_12am/y_test_cow6065_9pm_to_12am.csv\",header=None)\n",
        "df_ex[0].value_counts()['eating']"
      ],
      "metadata": {
        "id": "BvcA0t3jdj9O",
        "outputId": "7ba81f82-ef2e-4ca2-80a5-8efcd469ce46",
        "colab": {
          "base_uri": "https://localhost:8080/"
        }
      },
      "execution_count": 21,
      "outputs": [
        {
          "output_type": "execute_result",
          "data": {
            "text/plain": [
              "605"
            ]
          },
          "metadata": {},
          "execution_count": 21
        }
      ]
    },
    {
      "cell_type": "code",
      "source": [
        "df_ex = pd.read_csv(\"Cow6065/Final/featured/Test_cow6065_9am_to_1pm_2/y_test_cow6065_9am_to_1pm_2.csv\",header=None)\n",
        "df_ex[0].value_counts()['eating']"
      ],
      "metadata": {
        "id": "Q9O7MYITdsVb",
        "outputId": "ddecc6bf-6c2c-4819-ebc9-5ae7ca1c226e",
        "colab": {
          "base_uri": "https://localhost:8080/"
        }
      },
      "execution_count": 22,
      "outputs": [
        {
          "output_type": "execute_result",
          "data": {
            "text/plain": [
              "920"
            ]
          },
          "metadata": {},
          "execution_count": 22
        }
      ]
    },
    {
      "cell_type": "code",
      "source": [
        "df_ex = pd.read_csv(\"Cow6065/Final/featured/Test_cow6065_1pm_to_5pm_2/y_test_cow6065_1pm_to_5pm_2.csv\",header=None)\n",
        "df_ex[0].value_counts()['eating']"
      ],
      "metadata": {
        "id": "J-3zPNgTdxr2",
        "outputId": "c00f341e-8ba4-4da5-a7b2-3172170cf6f2",
        "colab": {
          "base_uri": "https://localhost:8080/"
        }
      },
      "execution_count": 23,
      "outputs": [
        {
          "output_type": "execute_result",
          "data": {
            "text/plain": [
              "207"
            ]
          },
          "metadata": {},
          "execution_count": 23
        }
      ]
    },
    {
      "cell_type": "code",
      "source": [
        "import pandas as pd\n",
        "\n",
        "data = {'block': ['cow6065_1pm_to_5pm_1', 'cow6065_9am_to_1pm', 'cow6065_5pm_to_9pm', 'cow6065_9pm_to_12am'],\n",
        "        'number of eating events': [795, 1054, 456, 605],\n",
        "        'intake': [75.4, 95.4, 47, 28.2]}\n",
        "\n",
        "df = pd.DataFrame(data)\n",
        "\n",
        "# Calculate correlation between 'number of eating events' and 'intake'\n",
        "correlation = df['number of eating events'].corr(df['intake'])\n",
        "\n",
        "print(f\"Correlation: {correlation:.2f}\")\n"
      ],
      "metadata": {
        "id": "tfz3Wtr9SSMf",
        "outputId": "69e933a9-909b-4d2f-cf95-a4ddff0a3d55",
        "colab": {
          "base_uri": "https://localhost:8080/"
        }
      },
      "execution_count": 29,
      "outputs": [
        {
          "output_type": "stream",
          "name": "stdout",
          "text": [
            "Correlation: 0.87\n"
          ]
        }
      ]
    }
  ]
}