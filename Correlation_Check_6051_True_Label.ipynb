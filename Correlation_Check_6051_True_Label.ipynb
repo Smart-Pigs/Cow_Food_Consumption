{
  "nbformat": 4,
  "nbformat_minor": 0,
  "metadata": {
    "colab": {
      "provenance": [],
      "include_colab_link": true
    },
    "kernelspec": {
      "name": "python3",
      "display_name": "Python 3"
    },
    "language_info": {
      "name": "python"
    }
  },
  "cells": [
    {
      "cell_type": "markdown",
      "metadata": {
        "id": "view-in-github",
        "colab_type": "text"
      },
      "source": [
        "<a href=\"https://colab.research.google.com/github/Smart-Pigs/Cow_Food_Consumption/blob/main/Correlation_Check_6051.ipynb\" target=\"_parent\"><img src=\"https://colab.research.google.com/assets/colab-badge.svg\" alt=\"Open In Colab\"/></a>"
      ]
    },
    {
      "cell_type": "code",
      "execution_count": 1,
      "metadata": {
        "colab": {
          "base_uri": "https://localhost:8080/"
        },
        "id": "dTXLJHl-pKJr",
        "outputId": "29b67876-ca30-4f05-f7d7-d5c257ec989a"
      },
      "outputs": [
        {
          "output_type": "stream",
          "name": "stdout",
          "text": [
            "Mounted at /content/gdrive\n"
          ]
        }
      ],
      "source": [
        "#Mount Google Drive \n",
        "from google.colab import drive\n",
        "drive.mount('/content/gdrive',force_remount=True)"
      ]
    },
    {
      "cell_type": "code",
      "source": [
        "#Change path\n",
        "import os\n",
        "path = '/content/gdrive/MyDrive/Cow_eating_label/'\n",
        "os.chdir(path)"
      ],
      "metadata": {
        "id": "EGrJEuokra16"
      },
      "execution_count": 2,
      "outputs": []
    },
    {
      "cell_type": "code",
      "source": [
        "import glob\n",
        "import numpy as np\n",
        "import pandas as pd"
      ],
      "metadata": {
        "id": "jHHxDVUiKJvH"
      },
      "execution_count": 3,
      "outputs": []
    },
    {
      "cell_type": "code",
      "source": [
        "ls Cow6051/Final/Window_1/"
      ],
      "metadata": {
        "id": "E15nEUePaTaL",
        "outputId": "d5f21dfd-e3e4-40d7-ab94-027b1a834939",
        "colab": {
          "base_uri": "https://localhost:8080/"
        }
      },
      "execution_count": 5,
      "outputs": [
        {
          "output_type": "stream",
          "name": "stdout",
          "text": [
            "cow6051_12am_to_9am_1_x.csv  cow6051_5pm_to_9pm_1_y.csv\n",
            "cow6051_12am_to_9am_1_y.csv  cow6051_5pm_to_9pm_2_x.csv\n",
            "cow6051_12am_to_9am_2_x.csv  cow6051_5pm_to_9pm_2_y.csv\n",
            "cow6051_12am_to_9am_2_y.csv  cow6051_5pm_to_9pm_3_x.csv\n",
            "cow6051_12am_to_9am_3_x.csv  cow6051_5pm_to_9pm_3_y.csv\n",
            "cow6051_12am_to_9am_3_y.csv  cow6051_9am_to_1pm_1_x.csv\n",
            "cow6051_1pm_to_5pm_1_x.csv   cow6051_9am_to_1pm_1_y.csv\n",
            "cow6051_1pm_to_5pm_1_y.csv   cow6051_9am_to_1pm_2_x.csv\n",
            "cow6051_1pm_to_5pm_2_x.csv   cow6051_9am_to_1pm_2_y.csv\n",
            "cow6051_1pm_to_5pm_2_y.csv   cow6051_9pm_to_12am_2_x.csv\n",
            "cow6051_1pm_to_5pm_3_x.csv   cow6051_9pm_to_12am_2_y.csv\n",
            "cow6051_1pm_to_5pm_3_y.csv   cow6051_9pm_to_12pm_3_x.csv\n",
            "cow6051_5pm_to_9pm_1_x.csv   cow6051_9pm_to_12pm_3_y.csv\n"
          ]
        }
      ]
    },
    {
      "cell_type": "code",
      "source": [
        "df_ex = pd.read_csv(\"Cow6051/Final/Window_1/cow6051_1pm_to_5pm_1_y.csv\",header=None)\n",
        "df_ex[0].value_counts()['eating']"
      ],
      "metadata": {
        "id": "tq13WZvZaZQR",
        "outputId": "16c183b5-8c2f-4832-c076-9abaaba7b63c",
        "colab": {
          "base_uri": "https://localhost:8080/"
        }
      },
      "execution_count": 7,
      "outputs": [
        {
          "output_type": "execute_result",
          "data": {
            "text/plain": [
              "1405"
            ]
          },
          "metadata": {},
          "execution_count": 7
        }
      ]
    },
    {
      "cell_type": "code",
      "source": [
        "df_ex = pd.read_csv(\"Cow6051/Final/Window_1/cow6051_5pm_to_9pm_1_y.csv\",header=None)\n",
        "df_ex[0].value_counts()['eating']"
      ],
      "metadata": {
        "id": "QI2T6TSkajew",
        "outputId": "67e0de3b-471e-49ed-9eab-0ba476373681",
        "colab": {
          "base_uri": "https://localhost:8080/"
        }
      },
      "execution_count": 8,
      "outputs": [
        {
          "output_type": "execute_result",
          "data": {
            "text/plain": [
              "402"
            ]
          },
          "metadata": {},
          "execution_count": 8
        }
      ]
    },
    {
      "cell_type": "code",
      "source": [
        "df_ex = pd.read_csv(\"Cow6051/Final/Window_1/cow6051_12am_to_9am_1_y.csv\",header=None)\n",
        "df_ex[0].value_counts()['eating']"
      ],
      "metadata": {
        "id": "PBZd3CzzcgiT",
        "outputId": "a72623a3-e27a-400c-a07d-eb1dc8dcd7cc",
        "colab": {
          "base_uri": "https://localhost:8080/"
        }
      },
      "execution_count": 9,
      "outputs": [
        {
          "output_type": "execute_result",
          "data": {
            "text/plain": [
              "240"
            ]
          },
          "metadata": {},
          "execution_count": 9
        }
      ]
    },
    {
      "cell_type": "code",
      "source": [
        "df_ex = pd.read_csv(\"Cow6051/Final/Window_1/cow6051_9am_to_1pm_1_y.csv\",header=None)\n",
        "df_ex[0].value_counts()['eating']"
      ],
      "metadata": {
        "id": "BvcA0t3jdj9O",
        "outputId": "57498420-671e-4d00-d43e-244f0a3f998b",
        "colab": {
          "base_uri": "https://localhost:8080/"
        }
      },
      "execution_count": 10,
      "outputs": [
        {
          "output_type": "execute_result",
          "data": {
            "text/plain": [
              "776"
            ]
          },
          "metadata": {},
          "execution_count": 10
        }
      ]
    },
    {
      "cell_type": "code",
      "source": [
        "df_ex = pd.read_csv(\"Cow6051/Final/Window_1/cow6051_1pm_to_5pm_2_y.csv\",header=None)\n",
        "df_ex[0].value_counts()['eating']"
      ],
      "metadata": {
        "id": "Q9O7MYITdsVb",
        "outputId": "99165588-8250-4eb0-aa60-295aa7fe52d9",
        "colab": {
          "base_uri": "https://localhost:8080/"
        }
      },
      "execution_count": 11,
      "outputs": [
        {
          "output_type": "execute_result",
          "data": {
            "text/plain": [
              "725"
            ]
          },
          "metadata": {},
          "execution_count": 11
        }
      ]
    },
    {
      "cell_type": "code",
      "source": [
        "df_ex = pd.read_csv(\"Cow6051/Final/Window_1/cow6051_5pm_to_9pm_2_y.csv\",header=None)\n",
        "df_ex[0].value_counts()['eating']"
      ],
      "metadata": {
        "id": "J-3zPNgTdxr2",
        "outputId": "35f5bd35-bdfa-44fd-b997-0c04577323c0",
        "colab": {
          "base_uri": "https://localhost:8080/"
        }
      },
      "execution_count": 12,
      "outputs": [
        {
          "output_type": "execute_result",
          "data": {
            "text/plain": [
              "438"
            ]
          },
          "metadata": {},
          "execution_count": 12
        }
      ]
    },
    {
      "cell_type": "code",
      "source": [
        "df_ex = pd.read_csv(\"Cow6051/Final/Window_1/cow6051_9pm_to_12am_2_y.csv\",header=None)\n",
        "df_ex[0].value_counts()['eating']"
      ],
      "metadata": {
        "outputId": "a6c76274-fb1a-4b4f-f4d9-71ff38ee884c",
        "colab": {
          "base_uri": "https://localhost:8080/"
        },
        "id": "_tKumDmHpU6n"
      },
      "execution_count": 13,
      "outputs": [
        {
          "output_type": "execute_result",
          "data": {
            "text/plain": [
              "222"
            ]
          },
          "metadata": {},
          "execution_count": 13
        }
      ]
    },
    {
      "cell_type": "code",
      "source": [
        "df_ex = pd.read_csv(\"Cow6051/Final/Window_1/cow6051_12am_to_9am_2_y.csv\",header=None)\n",
        "df_ex[0].value_counts()['eating']"
      ],
      "metadata": {
        "outputId": "4f48d4d1-9841-4491-a623-8864e3c8d057",
        "colab": {
          "base_uri": "https://localhost:8080/"
        },
        "id": "RRVt-TESpVIe"
      },
      "execution_count": 14,
      "outputs": [
        {
          "output_type": "execute_result",
          "data": {
            "text/plain": [
              "445"
            ]
          },
          "metadata": {},
          "execution_count": 14
        }
      ]
    },
    {
      "cell_type": "code",
      "source": [
        "df_ex = pd.read_csv(\"Cow6051/Final/Window_1/cow6051_9am_to_1pm_2_y.csv\",header=None)\n",
        "df_ex[0].value_counts()['eating']"
      ],
      "metadata": {
        "outputId": "cef9c044-4a70-4e33-e4f7-522949d7708f",
        "colab": {
          "base_uri": "https://localhost:8080/"
        },
        "id": "sQ_VXXSBpVTU"
      },
      "execution_count": 15,
      "outputs": [
        {
          "output_type": "execute_result",
          "data": {
            "text/plain": [
              "757"
            ]
          },
          "metadata": {},
          "execution_count": 15
        }
      ]
    },
    {
      "cell_type": "code",
      "source": [
        "df_ex = pd.read_csv(\"Cow6051/Final/Window_1/cow6051_1pm_to_5pm_3_y.csv\",header=None)\n",
        "df_ex[0].value_counts()['eating']"
      ],
      "metadata": {
        "outputId": "a15cdf8e-cfc2-4494-e1a8-41eca7e78aba",
        "colab": {
          "base_uri": "https://localhost:8080/"
        },
        "id": "nXdoUkAEpYHQ"
      },
      "execution_count": 16,
      "outputs": [
        {
          "output_type": "execute_result",
          "data": {
            "text/plain": [
              "1080"
            ]
          },
          "metadata": {},
          "execution_count": 16
        }
      ]
    },
    {
      "cell_type": "code",
      "source": [
        "df_ex = pd.read_csv(\"Cow6051/Final/Window_1/cow6051_5pm_to_9pm_3_y.csv\",header=None)\n",
        "df_ex[0].value_counts()['eating']"
      ],
      "metadata": {
        "outputId": "8fc289a1-c844-4a59-b7b2-9868be50585c",
        "colab": {
          "base_uri": "https://localhost:8080/"
        },
        "id": "_rujdcfrpYPD"
      },
      "execution_count": 17,
      "outputs": [
        {
          "output_type": "execute_result",
          "data": {
            "text/plain": [
              "241"
            ]
          },
          "metadata": {},
          "execution_count": 17
        }
      ]
    },
    {
      "cell_type": "code",
      "source": [
        "df_ex = pd.read_csv(\"Cow6051/Final/Window_1/cow6051_9pm_to_12pm_3_y.csv\",header=None)\n",
        "df_ex[0].value_counts()['eating']"
      ],
      "metadata": {
        "outputId": "2113939c-b7b2-496b-ae9f-7a39b61d8a8a",
        "colab": {
          "base_uri": "https://localhost:8080/"
        },
        "id": "ZgZGFtrUpYWZ"
      },
      "execution_count": 18,
      "outputs": [
        {
          "output_type": "execute_result",
          "data": {
            "text/plain": [
              "20"
            ]
          },
          "metadata": {},
          "execution_count": 18
        }
      ]
    },
    {
      "cell_type": "code",
      "source": [
        "df_ex = pd.read_csv(\"Cow6051/Final/Window_1/cow6051_12am_to_9am_3_y.csv\",header=None)\n",
        "df_ex[0].value_counts()['eating']"
      ],
      "metadata": {
        "outputId": "aeca59df-bd6a-4a43-cbf4-6521a668fc4f",
        "colab": {
          "base_uri": "https://localhost:8080/"
        },
        "id": "lrt7aOb0pYet"
      },
      "execution_count": 19,
      "outputs": [
        {
          "output_type": "execute_result",
          "data": {
            "text/plain": [
              "75"
            ]
          },
          "metadata": {},
          "execution_count": 19
        }
      ]
    },
    {
      "cell_type": "code",
      "source": [
        "import pandas as pd\n",
        "\n",
        "data = {'block': ['cow6051_1pm_to_5pm_1_y', 'Cow6051/Final/Window_1', 'cow6065_9pm_to_12am', 'cow6051_9am_to_1pm_1_y', 'cow6051_1pm_to_5pm_2_y','cow6051_5pm_to_9pm_2_y','cow6051_9pm_to_12am_2_y','cow6051_12am_to_9am_2_y','cow6051_9am_to_1pm_2_y','cow6051_1pm_to_5pm_3_y','cow6051_5pm_to_9pm_3_y','cow6051_9pm_to_12pm_3_y','cow6051_12am_to_9am_3_y'],\n",
        "        'number of eating events': [1405, 402, 240,776,725,438,222,445,757,1080,241,20,75],\n",
        "        'intake': [71.4, 13.6, 11.6, 25.2,39.2,18.4,13.4,17.2,29.2,35.4,5.6,11, 18.4]}\n",
        "\n",
        "df = pd.DataFrame(data)\n",
        "\n",
        "# Calculate correlation between 'number of eating events' and 'intake'\n",
        "correlation = df['number of eating events'].corr(df['intake'])\n",
        "\n",
        "print(f\"Correlation: {correlation:.2f}\")\n"
      ],
      "metadata": {
        "id": "tfz3Wtr9SSMf",
        "outputId": "6674936c-54ec-4bc0-8395-627d8eb060f6",
        "colab": {
          "base_uri": "https://localhost:8080/"
        }
      },
      "execution_count": 21,
      "outputs": [
        {
          "output_type": "stream",
          "name": "stdout",
          "text": [
            "Correlation: 0.90\n"
          ]
        }
      ]
    },
    {
      "cell_type": "code",
      "source": [
        "\n",
        "import numpy as np\n",
        "from sklearn.linear_model import LinearRegression\n",
        "import matplotlib.pyplot as plt\n",
        "from sklearn.metrics import mean_squared_error, r2_score, mean_absolute_percentage_error\n",
        "import statsmodels.api as sm\n",
        "\n",
        "X = np.array([1405, 402, 240,776,725,438,222,445,757,1080,241,20,75])\n",
        "Y = np.array([71.4, 13.6, 11.6, 25.2,39.2,18.4,13.4,17.2,29.2,35.4,5.6,11, 18.4])\n",
        "n = np.size(X)\n",
        "  \n",
        "x_mean = np.mean(X)\n",
        "y_mean = np.mean(Y)\n",
        "x_mean,y_mean\n",
        "  \n",
        "Sxy = np.sum(X*Y)- n*x_mean*y_mean\n",
        "Sxx = np.sum(X*X)-n*x_mean*x_mean\n",
        "  \n",
        "b1 = Sxy/Sxx\n",
        "b0 = y_mean-b1*x_mean\n",
        "print('slope b1 is', b1)\n",
        "print('intercept b0 is', b0)\n",
        "  \n",
        "plt.scatter(X,Y)\n",
        "plt.xlabel('Independent variable X')\n",
        "plt.ylabel('Dependent variable y')\n",
        "\n",
        "y_pred = b1 * X + b0\n",
        "\n",
        "plt.scatter(X, Y, color = 'red')\n",
        "plt.plot(X, y_pred, color = 'green')\n",
        "plt.xlabel('Eating Windows')\n",
        "plt.ylabel('Intake')\n",
        "\n",
        "X = X.reshape(-1,1)\n",
        "regression_model = LinearRegression()\n",
        "\n",
        "# Fit the data(train the model)\n",
        "regression_model.fit(X, Y)\n",
        "print(regression_model.fit(X, Y).score(X,Y))\n",
        "# Predict\n",
        "y_predicted = regression_model.predict(X)\n",
        "\n",
        "# model evaluation\n",
        "mape=mean_absolute_percentage_error(Y,y_predicted)\n",
        "\n",
        "rmse = np.sqrt(mean_squared_error(Y, y_predicted))\n",
        "r2 = r2_score(Y, y_predicted)\n",
        "\n",
        "# printing values\n",
        "print('Slope:' ,regression_model.coef_)\n",
        "print('Intercept:', regression_model.intercept_)\n",
        "print('MAPE:',mape)\n",
        "print('Root mean squared error: ', rmse)\n",
        "print('R2 score: ', r2)\n",
        "\n"
      ],
      "metadata": {
        "colab": {
          "base_uri": "https://localhost:8080/",
          "height": 594
        },
        "id": "v796s7guAMF2",
        "outputId": "c212cf2d-4be1-4ec4-d887-193259972ea9"
      },
      "execution_count": 33,
      "outputs": [
        {
          "output_type": "stream",
          "name": "stdout",
          "text": [
            "slope b1 is 0.038368866041058505\n",
            "intercept b0 is 3.6687784925949707\n",
            "0.8035778376421676\n",
            "Slope: [0.03836887]\n",
            "Intercept: 3.668778492594985\n",
            "MAPE: 0.352509205007182\n",
            "Root mean squared error:  7.40241129960642\n",
            "R2 score:  0.8035778376421676\n"
          ]
        },
        {
          "output_type": "display_data",
          "data": {
            "text/plain": [
              "<Figure size 640x480 with 1 Axes>"
            ],
            "image/png": "[encoded data removed]"
          },
          "metadata": {}
        }
      ]
    }
  ]
}
