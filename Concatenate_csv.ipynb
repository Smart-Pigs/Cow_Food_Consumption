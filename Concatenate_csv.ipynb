{
  "nbformat": 4,
  "nbformat_minor": 0,
  "metadata": {
    "colab": {
      "provenance": [],
      "authorship_tag": "ABX9TyNOhOBa9atlqv3et4YEVXQG",
      "include_colab_link": true
    },
    "kernelspec": {
      "name": "python3",
      "display_name": "Python 3"
    },
    "language_info": {
      "name": "python"
    }
  },
  "cells": [
    {
      "cell_type": "markdown",
      "metadata": {
        "id": "view-in-github",
        "colab_type": "text"
      },
      "source": [
        "<a href=\"https://colab.research.google.com/github/Smart-Pigs/Cow_Food_Consumption/blob/main/Concatenate_csv.ipynb\" target=\"_parent\"><img src=\"https://colab.research.google.com/assets/colab-badge.svg\" alt=\"Open In Colab\"/></a>"
      ]
    },
    {
      "cell_type": "code",
      "execution_count": 1,
      "metadata": {
        "colab": {
          "base_uri": "https://localhost:8080/"
        },
        "id": "WhyVoh2lrfZn",
        "outputId": "b665cb8b-b7b3-4144-88f1-6f5c3b667097"
      },
      "outputs": [
        {
          "output_type": "stream",
          "name": "stdout",
          "text": [
            "Mounted at /content/drive\n"
          ]
        }
      ],
      "source": [
        "from google.colab import drive\n",
        "drive.mount('/content/drive')"
      ]
    },
    {
      "cell_type": "code",
      "source": [
        "import os\n",
        "import pandas as pd\n",
        "\n",
        "path = '/content/drive/MyDrive/Cow_eating_label/Cow6051/export/'\n",
        "output_path = '/content/drive/MyDrive/Cow_eating_label/Cow6051/Final'\n",
        "\n",
        "for subdir, dirs, files in os.walk(path):\n",
        "    for dir in dirs:\n",
        "        subfolder = os.path.join(subdir, dir)\n",
        "        print(f'Processing folder {subfolder}')\n",
        "        csv_files = [f for f in os.listdir(subfolder) if f.endswith('.csv')]\n",
        "        df = pd.concat([pd.read_csv(os.path.join(subfolder, f)) for f in csv_files])\n",
        "        \n",
        "        output = os.path.join(output_path, f'{dir}.csv')\n",
        "        df.to_csv(output, index=False)\n",
        "\n",
        "        print(f'Saved {output}')"
      ],
      "metadata": {
        "colab": {
          "base_uri": "https://localhost:8080/"
        },
        "id": "RNpMEaVBr23Q",
        "outputId": "55cc619f-9454-455e-ab1e-3910d0f4e287"
      },
      "execution_count": 5,
      "outputs": [
        {
          "output_type": "stream",
          "name": "stdout",
          "text": [
            "Processing folder /content/drive/MyDrive/Cow_eating_label/Cow6051/export/cow6051_1pm_to_5pm_1\n",
            "Saved /content/drive/MyDrive/Cow_eating_label/Cow6051/Final/cow6051_1pm_to_5pm_1.csv\n",
            "Processing folder /content/drive/MyDrive/Cow_eating_label/Cow6051/export/cow6051_5pm_to_9pm_1\n",
            "Saved /content/drive/MyDrive/Cow_eating_label/Cow6051/Final/cow6051_5pm_to_9pm_1.csv\n",
            "Processing folder /content/drive/MyDrive/Cow_eating_label/Cow6051/export/cow6051_12am_to_9am_1\n"
          ]
        },
        {
          "output_type": "stream",
          "name": "stderr",
          "text": [
            "<ipython-input-5-d58622ef09e6>:12: DtypeWarning: Columns (20) have mixed types. Specify dtype option on import or set low_memory=False.\n",
            "  df = pd.concat([pd.read_csv(os.path.join(subfolder, f)) for f in csv_files])\n",
            "<ipython-input-5-d58622ef09e6>:12: DtypeWarning: Columns (20) have mixed types. Specify dtype option on import or set low_memory=False.\n",
            "  df = pd.concat([pd.read_csv(os.path.join(subfolder, f)) for f in csv_files])\n"
          ]
        },
        {
          "output_type": "stream",
          "name": "stdout",
          "text": [
            "Saved /content/drive/MyDrive/Cow_eating_label/Cow6051/Final/cow6051_12am_to_9am_1.csv\n",
            "Processing folder /content/drive/MyDrive/Cow_eating_label/Cow6051/export/cow6051_9am_to_1pm_1\n"
          ]
        },
        {
          "output_type": "stream",
          "name": "stderr",
          "text": [
            "<ipython-input-5-d58622ef09e6>:12: DtypeWarning: Columns (20) have mixed types. Specify dtype option on import or set low_memory=False.\n",
            "  df = pd.concat([pd.read_csv(os.path.join(subfolder, f)) for f in csv_files])\n"
          ]
        },
        {
          "output_type": "stream",
          "name": "stdout",
          "text": [
            "Saved /content/drive/MyDrive/Cow_eating_label/Cow6051/Final/cow6051_9am_to_1pm_1.csv\n",
            "Processing folder /content/drive/MyDrive/Cow_eating_label/Cow6051/export/cow6051_1pm_to_5pm_2\n"
          ]
        },
        {
          "output_type": "stream",
          "name": "stderr",
          "text": [
            "<ipython-input-5-d58622ef09e6>:12: DtypeWarning: Columns (20) have mixed types. Specify dtype option on import or set low_memory=False.\n",
            "  df = pd.concat([pd.read_csv(os.path.join(subfolder, f)) for f in csv_files])\n",
            "<ipython-input-5-d58622ef09e6>:12: DtypeWarning: Columns (20) have mixed types. Specify dtype option on import or set low_memory=False.\n",
            "  df = pd.concat([pd.read_csv(os.path.join(subfolder, f)) for f in csv_files])\n",
            "<ipython-input-5-d58622ef09e6>:12: DtypeWarning: Columns (20) have mixed types. Specify dtype option on import or set low_memory=False.\n",
            "  df = pd.concat([pd.read_csv(os.path.join(subfolder, f)) for f in csv_files])\n"
          ]
        },
        {
          "output_type": "stream",
          "name": "stdout",
          "text": [
            "Saved /content/drive/MyDrive/Cow_eating_label/Cow6051/Final/cow6051_1pm_to_5pm_2.csv\n",
            "Processing folder /content/drive/MyDrive/Cow_eating_label/Cow6051/export/cow6051_12am_to_9am_2\n"
          ]
        },
        {
          "output_type": "stream",
          "name": "stderr",
          "text": [
            "<ipython-input-5-d58622ef09e6>:12: DtypeWarning: Columns (20) have mixed types. Specify dtype option on import or set low_memory=False.\n",
            "  df = pd.concat([pd.read_csv(os.path.join(subfolder, f)) for f in csv_files])\n"
          ]
        },
        {
          "output_type": "stream",
          "name": "stdout",
          "text": [
            "Saved /content/drive/MyDrive/Cow_eating_label/Cow6051/Final/cow6051_12am_to_9am_2.csv\n",
            "Processing folder /content/drive/MyDrive/Cow_eating_label/Cow6051/export/cow6051_9pm_to_12am_2\n"
          ]
        },
        {
          "output_type": "stream",
          "name": "stderr",
          "text": [
            "<ipython-input-5-d58622ef09e6>:12: DtypeWarning: Columns (20) have mixed types. Specify dtype option on import or set low_memory=False.\n",
            "  df = pd.concat([pd.read_csv(os.path.join(subfolder, f)) for f in csv_files])\n"
          ]
        },
        {
          "output_type": "stream",
          "name": "stdout",
          "text": [
            "Saved /content/drive/MyDrive/Cow_eating_label/Cow6051/Final/cow6051_9pm_to_12am_2.csv\n",
            "Processing folder /content/drive/MyDrive/Cow_eating_label/Cow6051/export/cow6051_5pm_to_9pm_2\n",
            "Saved /content/drive/MyDrive/Cow_eating_label/Cow6051/Final/cow6051_5pm_to_9pm_2.csv\n",
            "Processing folder /content/drive/MyDrive/Cow_eating_label/Cow6051/export/cow6051_9am_to_1pm_2\n"
          ]
        },
        {
          "output_type": "stream",
          "name": "stderr",
          "text": [
            "<ipython-input-5-d58622ef09e6>:12: DtypeWarning: Columns (20) have mixed types. Specify dtype option on import or set low_memory=False.\n",
            "  df = pd.concat([pd.read_csv(os.path.join(subfolder, f)) for f in csv_files])\n"
          ]
        },
        {
          "output_type": "stream",
          "name": "stdout",
          "text": [
            "Saved /content/drive/MyDrive/Cow_eating_label/Cow6051/Final/cow6051_9am_to_1pm_2.csv\n",
            "Processing folder /content/drive/MyDrive/Cow_eating_label/Cow6051/export/cow6051_1pm_to_5pm_3\n",
            "Saved /content/drive/MyDrive/Cow_eating_label/Cow6051/Final/cow6051_1pm_to_5pm_3.csv\n",
            "Processing folder /content/drive/MyDrive/Cow_eating_label/Cow6051/export/cow6051_5pm_to_9pm_3\n"
          ]
        },
        {
          "output_type": "stream",
          "name": "stderr",
          "text": [
            "<ipython-input-5-d58622ef09e6>:12: DtypeWarning: Columns (20) have mixed types. Specify dtype option on import or set low_memory=False.\n",
            "  df = pd.concat([pd.read_csv(os.path.join(subfolder, f)) for f in csv_files])\n",
            "<ipython-input-5-d58622ef09e6>:12: DtypeWarning: Columns (20) have mixed types. Specify dtype option on import or set low_memory=False.\n",
            "  df = pd.concat([pd.read_csv(os.path.join(subfolder, f)) for f in csv_files])\n"
          ]
        },
        {
          "output_type": "stream",
          "name": "stdout",
          "text": [
            "Saved /content/drive/MyDrive/Cow_eating_label/Cow6051/Final/cow6051_5pm_to_9pm_3.csv\n",
            "Processing folder /content/drive/MyDrive/Cow_eating_label/Cow6051/export/cow6051_9pm_to_12pm_3\n",
            "Saved /content/drive/MyDrive/Cow_eating_label/Cow6051/Final/cow6051_9pm_to_12pm_3.csv\n",
            "Processing folder /content/drive/MyDrive/Cow_eating_label/Cow6051/export/cow6051_12am_to_9am_3\n",
            "Saved /content/drive/MyDrive/Cow_eating_label/Cow6051/Final/cow6051_12am_to_9am_3.csv\n"
          ]
        }
      ]
    },
    {
      "cell_type": "code",
      "source": [
        "path = '/content/drive/MyDrive/Cow_eating_label/Cow6065/export/'\n",
        "output_path = '/content/drive/MyDrive/Cow_eating_label/Cow6065/Final'\n",
        "\n",
        "for subdir, dirs, files in os.walk(path):\n",
        "    for dir in dirs:\n",
        "        subfolder = os.path.join(subdir, dir)\n",
        "        print(f'Processing folder {subfolder}')\n",
        "        csv_files = [f for f in os.listdir(subfolder) if f.endswith('.csv')]\n",
        "        df = pd.concat([pd.read_csv(os.path.join(subfolder, f)) for f in csv_files])\n",
        "        \n",
        "        output = os.path.join(output_path, f'{dir}.csv')\n",
        "        df.to_csv(output, index=False)\n",
        "\n",
        "        print(f'Saved {output}')"
      ],
      "metadata": {
        "colab": {
          "base_uri": "https://localhost:8080/"
        },
        "id": "rXqFssj2vSkN",
        "outputId": "3d062e10-547c-48a2-86a1-058fa4f91f88"
      },
      "execution_count": 6,
      "outputs": [
        {
          "output_type": "stream",
          "name": "stdout",
          "text": [
            "Processing folder /content/drive/MyDrive/Cow_eating_label/Cow6065/export/cow6065_1pm_to_5pm_1\n"
          ]
        },
        {
          "output_type": "stream",
          "name": "stderr",
          "text": [
            "<ipython-input-6-757f1a5c0228>:9: DtypeWarning: Columns (20) have mixed types. Specify dtype option on import or set low_memory=False.\n",
            "  df = pd.concat([pd.read_csv(os.path.join(subfolder, f)) for f in csv_files])\n"
          ]
        },
        {
          "output_type": "stream",
          "name": "stdout",
          "text": [
            "Saved /content/drive/MyDrive/Cow_eating_label/Cow6065/Final/cow6065_1pm_to_5pm_1.csv\n",
            "Processing folder /content/drive/MyDrive/Cow_eating_label/Cow6065/export/cow6065_5pm_to_9pm\n"
          ]
        },
        {
          "output_type": "stream",
          "name": "stderr",
          "text": [
            "<ipython-input-6-757f1a5c0228>:9: DtypeWarning: Columns (20) have mixed types. Specify dtype option on import or set low_memory=False.\n",
            "  df = pd.concat([pd.read_csv(os.path.join(subfolder, f)) for f in csv_files])\n"
          ]
        },
        {
          "output_type": "stream",
          "name": "stdout",
          "text": [
            "Saved /content/drive/MyDrive/Cow_eating_label/Cow6065/Final/cow6065_5pm_to_9pm.csv\n",
            "Processing folder /content/drive/MyDrive/Cow_eating_label/Cow6065/export/cow6065_9am_to_1pm_1\n",
            "Saved /content/drive/MyDrive/Cow_eating_label/Cow6065/Final/cow6065_9am_to_1pm_1.csv\n",
            "Processing folder /content/drive/MyDrive/Cow_eating_label/Cow6065/export/cow6065_9am_to_1pm_2\n"
          ]
        },
        {
          "output_type": "stream",
          "name": "stderr",
          "text": [
            "<ipython-input-6-757f1a5c0228>:9: DtypeWarning: Columns (20) have mixed types. Specify dtype option on import or set low_memory=False.\n",
            "  df = pd.concat([pd.read_csv(os.path.join(subfolder, f)) for f in csv_files])\n"
          ]
        },
        {
          "output_type": "stream",
          "name": "stdout",
          "text": [
            "Saved /content/drive/MyDrive/Cow_eating_label/Cow6065/Final/cow6065_9am_to_1pm_2.csv\n",
            "Processing folder /content/drive/MyDrive/Cow_eating_label/Cow6065/export/cow6065_1pm_to_5pm_2\n",
            "Saved /content/drive/MyDrive/Cow_eating_label/Cow6065/Final/cow6065_1pm_to_5pm_2.csv\n",
            "Processing folder /content/drive/MyDrive/Cow_eating_label/Cow6065/export/cow6065_9pm_to_12am\n",
            "Saved /content/drive/MyDrive/Cow_eating_label/Cow6065/Final/cow6065_9pm_to_12am.csv\n"
          ]
        }
      ]
    }
  ]
}