{
  "nbformat": 4,
  "nbformat_minor": 0,
  "metadata": {
    "colab": {
      "provenance": [],
      "include_colab_link": true
    },
    "kernelspec": {
      "name": "python3",
      "display_name": "Python 3"
    },
    "language_info": {
      "name": "python"
    }
  },
  "cells": [
    {
      "cell_type": "markdown",
      "metadata": {
        "id": "view-in-github",
        "colab_type": "text"
      },
      "source": [
        "<a href=\"https://colab.research.google.com/github/Smart-Pigs/Cow_Food_Consumption/blob/main/Correlation_Check_6051_Predict.ipynb\" target=\"_parent\"><img src=\"https://colab.research.google.com/assets/colab-badge.svg\" alt=\"Open In Colab\"/></a>"
      ]
    },
    {
      "cell_type": "code",
      "execution_count": 2,
      "metadata": {
        "colab": {
          "base_uri": "https://localhost:8080/"
        },
        "id": "dTXLJHl-pKJr",
        "outputId": "1cd1386f-5df3-49e1-ace6-17ebf53ed3b5"
      },
      "outputs": [
        {
          "output_type": "stream",
          "name": "stdout",
          "text": [
            "Mounted at /content/gdrive\n"
          ]
        }
      ],
      "source": [
        "#Mount Google Drive \n",
        "from google.colab import drive\n",
        "drive.mount('/content/gdrive',force_remount=True)"
      ]
    },
    {
      "cell_type": "code",
      "source": [
        "#Change path\n",
        "import os\n",
        "path = '/content/gdrive/MyDrive/Cow_eating_label/'\n",
        "os.chdir(path)"
      ],
      "metadata": {
        "id": "EGrJEuokra16"
      },
      "execution_count": 3,
      "outputs": []
    },
    {
      "cell_type": "code",
      "source": [
        "import glob\n",
        "import numpy as np\n",
        "import pandas as pd"
      ],
      "metadata": {
        "id": "jHHxDVUiKJvH"
      },
      "execution_count": 4,
      "outputs": []
    },
    {
      "cell_type": "code",
      "source": [
        "ls Cow6051/Final/Predict_Result/"
      ],
      "metadata": {
        "id": "E15nEUePaTaL",
        "outputId": "459ca5eb-7322-4160-9fef-1f22f46f0a58",
        "colab": {
          "base_uri": "https://localhost:8080/"
        }
      },
      "execution_count": 5,
      "outputs": [
        {
          "output_type": "stream",
          "name": "stdout",
          "text": [
            "ypredict_cow6051_12am_to_9am_1.csv   ypredict_cow6051_5pm_to_9pm_1.csv\n",
            "ypredict_cow6051_12am_to_9am_2.csv   ypredict_cow6051_5pm_to_9pm_2.csv\n",
            "ypredict_cow6051_12am_to_9am_3.csv   ypredict_cow6051_5pm_to_9pm_3.csv\n",
            "ypredict_cow6051_1pm_to_5pm_1_a.csv  ypredict_cow6051_9am_to_1pm_1.csv\n",
            "ypredict_cow6051_1pm_to_5pm_1_b.csv  ypredict_cow6051_9am_to_1pm_2.csv\n",
            "ypredict_cow6051_1pm_to_5pm_2.csv    ypredict_cow6051_9pm_to_12am_2.csv\n",
            "ypredict_cow6051_1pm_to_5pm_3.csv    ypredict_cow6051_9pm_to_12pm_3.csv\n"
          ]
        }
      ]
    },
    {
      "cell_type": "code",
      "source": [
        "df_ex = pd.read_csv(\"Cow6051/Final/Predict_Result/ypredict_cow6051_1pm_to_5pm_1_a.csv\",header=None)\n",
        "df_ex[0].value_counts()['eating']\n",
        "df_ex[0].value_counts()"
      ],
      "metadata": {
        "id": "tq13WZvZaZQR",
        "outputId": "72b19032-085f-4856-b1ff-7e410e3c9257",
        "colab": {
          "base_uri": "https://localhost:8080/"
        }
      },
      "execution_count": 6,
      "outputs": [
        {
          "output_type": "execute_result",
          "data": {
            "text/plain": [
              "eating        1409\n",
              "not_eating     670\n",
              "Name: 0, dtype: int64"
            ]
          },
          "metadata": {},
          "execution_count": 6
        }
      ]
    },
    {
      "cell_type": "code",
      "source": [
        "df_ex = pd.read_csv(\"Cow6051/Final/Predict_Result/ypredict_cow6051_1pm_to_5pm_1_b.csv\",header=None)\n",
        "df_ex[0].value_counts()['eating']\n",
        "df_ex[0].value_counts()"
      ],
      "metadata": {
        "colab": {
          "base_uri": "https://localhost:8080/"
        },
        "id": "HQIt3UjGchlg",
        "outputId": "a9409134-53b0-4980-8f77-88b63af3fca1"
      },
      "execution_count": 7,
      "outputs": [
        {
          "output_type": "execute_result",
          "data": {
            "text/plain": [
              "eating        1409\n",
              "not_eating     670\n",
              "Name: 0, dtype: int64"
            ]
          },
          "metadata": {},
          "execution_count": 7
        }
      ]
    },
    {
      "cell_type": "code",
      "source": [
        "df_ex = pd.read_csv(\"Cow6051/Final/Predict_Result/ypredict_cow6051_5pm_to_9pm_1.csv\",header=None)\n",
        "df_ex[0].value_counts()['eating']\n",
        "df_ex[0].value_counts()"
      ],
      "metadata": {
        "id": "QI2T6TSkajew",
        "outputId": "88835af2-a16f-4cb5-8a77-b2a73c4a1c01",
        "colab": {
          "base_uri": "https://localhost:8080/"
        }
      },
      "execution_count": 8,
      "outputs": [
        {
          "output_type": "execute_result",
          "data": {
            "text/plain": [
              "not_eating    612\n",
              "eating        427\n",
              "Name: 0, dtype: int64"
            ]
          },
          "metadata": {},
          "execution_count": 8
        }
      ]
    },
    {
      "cell_type": "code",
      "source": [
        "df_ex = pd.read_csv(\"Cow6051/Final/Predict_Result/ypredict_cow6051_12am_to_9am_1.csv\",header=None)\n",
        "df_ex[0].value_counts()['eating']\n",
        "df_ex[0].value_counts()"
      ],
      "metadata": {
        "id": "PBZd3CzzcgiT",
        "outputId": "b1196cfc-76eb-47b0-a080-627999d11e91",
        "colab": {
          "base_uri": "https://localhost:8080/"
        }
      },
      "execution_count": 9,
      "outputs": [
        {
          "output_type": "execute_result",
          "data": {
            "text/plain": [
              "not_eating    788\n",
              "eating        252\n",
              "Name: 0, dtype: int64"
            ]
          },
          "metadata": {},
          "execution_count": 9
        }
      ]
    },
    {
      "cell_type": "code",
      "source": [
        "df_ex = pd.read_csv(\"Cow6051/Final/Predict_Result/ypredict_cow6051_9am_to_1pm_1.csv\",header=None)\n",
        "df_ex[0].value_counts()['eating']\n",
        "df_ex[0].value_counts()"
      ],
      "metadata": {
        "id": "BvcA0t3jdj9O",
        "outputId": "dc9be3da-f28e-44ad-98af-2f7216e009f2",
        "colab": {
          "base_uri": "https://localhost:8080/"
        }
      },
      "execution_count": 10,
      "outputs": [
        {
          "output_type": "execute_result",
          "data": {
            "text/plain": [
              "not_eating    1565\n",
              "eating         846\n",
              "Name: 0, dtype: int64"
            ]
          },
          "metadata": {},
          "execution_count": 10
        }
      ]
    },
    {
      "cell_type": "code",
      "source": [
        "df_ex = pd.read_csv(\"Cow6051/Final/Predict_Result/ypredict_cow6051_1pm_to_5pm_2.csv\",header=None)\n",
        "df_ex[0].value_counts()['eating']\n",
        "df_ex[0].value_counts()"
      ],
      "metadata": {
        "id": "Q9O7MYITdsVb",
        "outputId": "d86d3c1c-dcc8-434b-90cd-1b853b9325d6",
        "colab": {
          "base_uri": "https://localhost:8080/"
        }
      },
      "execution_count": 11,
      "outputs": [
        {
          "output_type": "execute_result",
          "data": {
            "text/plain": [
              "not_eating    1635\n",
              "eating         791\n",
              "Name: 0, dtype: int64"
            ]
          },
          "metadata": {},
          "execution_count": 11
        }
      ]
    },
    {
      "cell_type": "code",
      "source": [
        "df_ex = pd.read_csv(\"Cow6051/Final/Predict_Result/ypredict_cow6051_12am_to_9am_2.csv\",header=None)\n",
        "df_ex[0].value_counts()['eating']\n",
        "df_ex[0].value_counts()"
      ],
      "metadata": {
        "outputId": "c4170b8b-d477-41ca-debd-ac4b356a7f2f",
        "colab": {
          "base_uri": "https://localhost:8080/"
        },
        "id": "RRVt-TESpVIe"
      },
      "execution_count": 12,
      "outputs": [
        {
          "output_type": "execute_result",
          "data": {
            "text/plain": [
              "not_eating    730\n",
              "eating        479\n",
              "Name: 0, dtype: int64"
            ]
          },
          "metadata": {},
          "execution_count": 12
        }
      ]
    },
    {
      "cell_type": "code",
      "source": [
        "df_ex = pd.read_csv(\"Cow6051/Final/Predict_Result/ypredict_cow6051_9pm_to_12am_2.csv\",header=None)\n",
        "df_ex[0].value_counts()['eating']\n",
        "df_ex[0].value_counts()"
      ],
      "metadata": {
        "outputId": "d2ce1401-7eb9-48cb-ebc7-5c0f5c8a56a3",
        "colab": {
          "base_uri": "https://localhost:8080/"
        },
        "id": "_tKumDmHpU6n"
      },
      "execution_count": 13,
      "outputs": [
        {
          "output_type": "execute_result",
          "data": {
            "text/plain": [
              "not_eating    452\n",
              "eating        241\n",
              "Name: 0, dtype: int64"
            ]
          },
          "metadata": {},
          "execution_count": 13
        }
      ]
    },
    {
      "cell_type": "code",
      "source": [
        "df_ex = pd.read_csv(\"Cow6051/Final/Predict_Result/ypredict_cow6051_5pm_to_9pm_2.csv\",header=None)\n",
        "df_ex[0].value_counts()['eating']\n",
        "df_ex[0].value_counts()"
      ],
      "metadata": {
        "id": "J-3zPNgTdxr2",
        "outputId": "ab3ec7bd-7d86-46af-9d5b-fc6327539a6e",
        "colab": {
          "base_uri": "https://localhost:8080/"
        }
      },
      "execution_count": 14,
      "outputs": [
        {
          "output_type": "execute_result",
          "data": {
            "text/plain": [
              "not_eating    711\n",
              "eating        460\n",
              "Name: 0, dtype: int64"
            ]
          },
          "metadata": {},
          "execution_count": 14
        }
      ]
    },
    {
      "cell_type": "code",
      "source": [
        "df_ex = pd.read_csv(\"Cow6051/Final/Predict_Result/ypredict_cow6051_9am_to_1pm_2.csv\",header=None)\n",
        "df_ex[0].value_counts()['eating']\n",
        "df_ex[0].value_counts()"
      ],
      "metadata": {
        "outputId": "3dbda539-ef83-4989-906a-9dd0c8dcea9d",
        "colab": {
          "base_uri": "https://localhost:8080/"
        },
        "id": "sQ_VXXSBpVTU"
      },
      "execution_count": 15,
      "outputs": [
        {
          "output_type": "execute_result",
          "data": {
            "text/plain": [
              "not_eating    957\n",
              "eating        850\n",
              "Name: 0, dtype: int64"
            ]
          },
          "metadata": {},
          "execution_count": 15
        }
      ]
    },
    {
      "cell_type": "code",
      "source": [
        "df_ex = pd.read_csv(\"Cow6051/Final/Predict_Result/ypredict_cow6051_1pm_to_5pm_3.csv\",header=None)\n",
        "df_ex[0].value_counts()['eating']\n",
        "df_ex[0].value_counts()"
      ],
      "metadata": {
        "outputId": "c9932908-3e65-4087-df8a-2eefcedf3c89",
        "colab": {
          "base_uri": "https://localhost:8080/"
        },
        "id": "nXdoUkAEpYHQ"
      },
      "execution_count": 16,
      "outputs": [
        {
          "output_type": "execute_result",
          "data": {
            "text/plain": [
              "not_eating    1468\n",
              "eating        1183\n",
              "Name: 0, dtype: int64"
            ]
          },
          "metadata": {},
          "execution_count": 16
        }
      ]
    },
    {
      "cell_type": "code",
      "source": [
        "df_ex = pd.read_csv(\"Cow6051/Final/Predict_Result/ypredict_cow6051_5pm_to_9pm_3.csv\",header=None)\n",
        "df_ex[0].value_counts()['eating']\n",
        "df_ex[0].value_counts()"
      ],
      "metadata": {
        "outputId": "be70ab86-16b4-425b-8148-c1e6ad98b98b",
        "colab": {
          "base_uri": "https://localhost:8080/"
        },
        "id": "_rujdcfrpYPD"
      },
      "execution_count": 17,
      "outputs": [
        {
          "output_type": "execute_result",
          "data": {
            "text/plain": [
              "not_eating    772\n",
              "eating        258\n",
              "Name: 0, dtype: int64"
            ]
          },
          "metadata": {},
          "execution_count": 17
        }
      ]
    },
    {
      "cell_type": "code",
      "source": [
        "df_ex = pd.read_csv(\"Cow6051/Final/Predict_Result/ypredict_cow6051_9pm_to_12pm_3.csv\",header=None)\n",
        "df_ex[0].value_counts()['eating']\n",
        "df_ex[0].value_counts()"
      ],
      "metadata": {
        "outputId": "016db3e4-69d0-49c8-c81a-75c005f4f4b3",
        "colab": {
          "base_uri": "https://localhost:8080/"
        },
        "id": "ZgZGFtrUpYWZ"
      },
      "execution_count": 18,
      "outputs": [
        {
          "output_type": "execute_result",
          "data": {
            "text/plain": [
              "not_eating    107\n",
              "eating         24\n",
              "Name: 0, dtype: int64"
            ]
          },
          "metadata": {},
          "execution_count": 18
        }
      ]
    },
    {
      "cell_type": "code",
      "source": [
        "df_ex = pd.read_csv(\"Cow6051/Final/Predict_Result/ypredict_cow6051_12am_to_9am_3.csv\",header=None)\n",
        "df_ex[0].value_counts()['eating']\n",
        "df_ex[0].value_counts()"
      ],
      "metadata": {
        "outputId": "8e6357d5-a6c7-47a5-cbcc-b915ba078864",
        "colab": {
          "base_uri": "https://localhost:8080/"
        },
        "id": "lrt7aOb0pYet"
      },
      "execution_count": 19,
      "outputs": [
        {
          "output_type": "execute_result",
          "data": {
            "text/plain": [
              "not_eating    91\n",
              "eating        85\n",
              "Name: 0, dtype: int64"
            ]
          },
          "metadata": {},
          "execution_count": 19
        }
      ]
    },
    {
      "cell_type": "code",
      "source": [
        "import pandas as pd\n",
        "\n",
        "data = {'block': ['cow6051_1pm_to_5pm_1_y', 'Cow6051/Final/Window_1', 'cow6065_9pm_to_12am', 'cow6051_9am_to_1pm_1_y', 'cow6051_1pm_to_5pm_2_y','cow6051_5pm_to_9pm_2_y','cow6051_9pm_to_12am_2_y','cow6051_12am_to_9am_2_y','cow6051_9am_to_1pm_2_y','cow6051_1pm_to_5pm_3_y','cow6051_5pm_to_9pm_3_y','cow6051_9pm_to_12pm_3_y','cow6051_12am_to_9am_3_y'],\n",
        "        'number of eating events': [1409,427,252,846,791,460,241,479,850,1183,258,24,85],\n",
        "        'intake': [71.4, 13.6, 11.6, 25.2,39.2,18.4,13.4,17.2,29.2,35.4,5.6,11, 18.4]}\n",
        "\n",
        "df = pd.DataFrame(data)\n",
        "\n",
        "# Calculate correlation between 'number of eating events' and 'intake'\n",
        "correlation = df['number of eating events'].corr(df['intake'])\n",
        "\n",
        "print(f\"Correlation: {correlation:.2f}\")\n"
      ],
      "metadata": {
        "id": "tfz3Wtr9SSMf",
        "outputId": "cd4c51fe-900b-4b20-e1a1-b7cc9ca23166",
        "colab": {
          "base_uri": "https://localhost:8080/"
        }
      },
      "execution_count": 20,
      "outputs": [
        {
          "output_type": "stream",
          "name": "stdout",
          "text": [
            "Correlation: 0.88\n"
          ]
        }
      ]
    },
    {
      "cell_type": "code",
      "source": [
        "import warnings\n",
        "warnings.filterwarnings('ignore')"
      ],
      "metadata": {
        "id": "ZqQdNrjdEh2Y"
      },
      "execution_count": 21,
      "outputs": []
    },
    {
      "cell_type": "code",
      "source": [
        "\n",
        "import numpy as np\n",
        "from sklearn.linear_model import LinearRegression\n",
        "import matplotlib.pyplot as plt\n",
        "from sklearn.metrics import mean_squared_error, r2_score, mean_absolute_percentage_error\n",
        "import statsmodels.api as sm\n",
        "\n",
        "X = np.array([1409,427,252,846,791,460,241,479,850,1183,258,24,85])\n",
        "Y = np.array([71.4, 13.6, 11.6, 25.2,39.2,18.4,13.4,17.2,29.2,35.4,5.6,11, 18.4])\n",
        "n = np.size(X)\n",
        "  \n",
        "x_mean = np.mean(X)\n",
        "y_mean = np.mean(Y)\n",
        "x_mean,y_mean\n",
        "  \n",
        "Sxy = np.sum(X*Y)- n*x_mean*y_mean\n",
        "Sxx = np.sum(X*X)-n*x_mean*x_mean\n",
        "  \n",
        "b1 = Sxy/Sxx\n",
        "b0 = y_mean-b1*x_mean\n",
        "print('slope b1 is', b1)\n",
        "print('intercept b0 is', b0)\n",
        "  \n",
        "plt.scatter(X,Y)\n",
        "plt.xlabel('Independent variable X')\n",
        "plt.ylabel('Dependent variable y')\n",
        "\n",
        "y_pred = b1 * X + b0\n",
        "\n",
        "plt.scatter(X, Y, color = 'red')\n",
        "plt.plot(X, y_pred, color = 'green')\n",
        "plt.xlabel('Eating Windows')\n",
        "plt.ylabel('Intake')\n",
        "\n",
        "X = X.reshape(-1,1)\n",
        "regression_model = LinearRegression()\n",
        "\n",
        "# Fit the data(train the model)\n",
        "regression_model.fit(X, Y)\n",
        "print(regression_model.fit(X, Y).score(X,Y))\n",
        "# Predict\n",
        "y_predicted = regression_model.predict(X)\n",
        "\n",
        "# model evaluation\n",
        "mape=mean_absolute_percentage_error(Y,y_predicted)\n",
        "\n",
        "rmse = np.sqrt(mean_squared_error(Y, y_predicted))\n",
        "r2 = r2_score(Y, y_predicted)\n",
        "\n",
        "# printing values\n",
        "print('Slope:' ,regression_model.coef_)\n",
        "print('Intercept:', regression_model.intercept_)\n",
        "print('MAPE:',mape)\n",
        "print('Root mean squared error: ', rmse)\n",
        "print('R2 score: ', r2)\n",
        "\n"
      ],
      "metadata": {
        "colab": {
          "base_uri": "https://localhost:8080/",
          "height": 588
        },
        "id": "v796s7guAMF2",
        "outputId": "d5abc3a3-e3cb-45bd-be64-753cb9cb0357"
      },
      "execution_count": 22,
      "outputs": [
        {
          "output_type": "stream",
          "name": "stdout",
          "text": [
            "slope b1 is 0.03586973289456924\n",
            "intercept b0 is 3.659353938859361\n",
            "0.7674346583986532\n",
            "Slope: [0.03586973]\n",
            "Intercept: 3.6593539388593648\n",
            "MAPE: 0.3580223677762613\n",
            "Root mean squared error:  8.054720318239475\n",
            "R2 score:  0.7674346583986532\n"
          ]
        },
        {
          "output_type": "display_data",
          "data": {
            "text/plain": [
              "<Figure size 640x480 with 1 Axes>"
            ],
            "image/png": "[encoded data removed]"
          },
          "metadata": {}
        }
      ]
    }
  ]
}